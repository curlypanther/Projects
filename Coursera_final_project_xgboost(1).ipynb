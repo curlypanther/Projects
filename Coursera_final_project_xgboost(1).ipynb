{
 "cells": [
  {
   "cell_type": "markdown",
   "id": "8caea008",
   "metadata": {},
   "source": [
    "# Градиентный бустинг"
   ]
  },
  {
   "cell_type": "markdown",
   "id": "ecb386df",
   "metadata": {},
   "source": [
    "##### 1. Считайте таблицу с признаками из файла features.csv с помощью кода, приведенного выше. Удалите признаки, связанные с итогами матча (они помечены в описании данных как отсутствующие в тестовой выборке)."
   ]
  },
  {
   "cell_type": "code",
   "execution_count": 1,
   "id": "704a0c4a",
   "metadata": {},
   "outputs": [],
   "source": [
    "import pandas as pd\n",
    "import numpy as np\n",
    "df = pd.read_csv('features.csv', index_col = 'match_id')\n",
    "df.drop(['duration', 'tower_status_radiant', 'tower_status_dire', 'barracks_status_radiant', 'barracks_status_dire']\n",
    "           , axis=1, inplace=True)"
   ]
  },
  {
   "cell_type": "markdown",
   "id": "3f13ff34",
   "metadata": {},
   "source": [
    "##### 2. Проверьте выборку на наличие пропусков с помощью функции count(), которая для каждого столбца показывает число заполненных значений. Много ли пропусков в данных? Запишите названия признаков, имеющих пропуски, и попробуйте для любых двух из них дать обоснование, почему их значения могут быть пропущены."
   ]
  },
  {
   "cell_type": "code",
   "execution_count": 2,
   "id": "6bfc4afd",
   "metadata": {},
   "outputs": [
    {
     "name": "stdout",
     "output_type": "stream",
     "text": [
      "match_id - 0%\n",
      "start_time - 0%\n",
      "lobby_type - 0%\n",
      "r1_hero - 0%\n",
      "r1_level - 0%\n",
      "r1_xp - 0%\n",
      "r1_gold - 0%\n",
      "r1_lh - 0%\n",
      "r1_kills - 0%\n",
      "r1_deaths - 0%\n",
      "r1_items - 0%\n",
      "r2_hero - 0%\n",
      "r2_level - 0%\n",
      "r2_xp - 0%\n",
      "r2_gold - 0%\n",
      "r2_lh - 0%\n",
      "r2_kills - 0%\n",
      "r2_deaths - 0%\n",
      "r2_items - 0%\n",
      "r3_hero - 0%\n",
      "r3_level - 0%\n",
      "r3_xp - 0%\n",
      "r3_gold - 0%\n",
      "r3_lh - 0%\n",
      "r3_kills - 0%\n",
      "r3_deaths - 0%\n",
      "r3_items - 0%\n",
      "r4_hero - 0%\n",
      "r4_level - 0%\n",
      "r4_xp - 0%\n",
      "r4_gold - 0%\n",
      "r4_lh - 0%\n",
      "r4_kills - 0%\n",
      "r4_deaths - 0%\n",
      "r4_items - 0%\n",
      "r5_hero - 0%\n",
      "r5_level - 0%\n",
      "r5_xp - 0%\n",
      "r5_gold - 0%\n",
      "r5_lh - 0%\n",
      "r5_kills - 0%\n",
      "r5_deaths - 0%\n",
      "r5_items - 0%\n",
      "d1_hero - 0%\n",
      "d1_level - 0%\n",
      "d1_xp - 0%\n",
      "d1_gold - 0%\n",
      "d1_lh - 0%\n",
      "d1_kills - 0%\n",
      "d1_deaths - 0%\n",
      "d1_items - 0%\n",
      "d2_hero - 0%\n",
      "d2_level - 0%\n",
      "d2_xp - 0%\n",
      "d2_gold - 0%\n",
      "d2_lh - 0%\n",
      "d2_kills - 0%\n",
      "d2_deaths - 0%\n",
      "d2_items - 0%\n",
      "d3_hero - 0%\n",
      "d3_level - 0%\n",
      "d3_xp - 0%\n",
      "d3_gold - 0%\n",
      "d3_lh - 0%\n",
      "d3_kills - 0%\n",
      "d3_deaths - 0%\n",
      "d3_items - 0%\n",
      "d4_hero - 0%\n",
      "d4_level - 0%\n",
      "d4_xp - 0%\n",
      "d4_gold - 0%\n",
      "d4_lh - 0%\n",
      "d4_kills - 0%\n",
      "d4_deaths - 0%\n",
      "d4_items - 0%\n",
      "d5_hero - 0%\n",
      "d5_level - 0%\n",
      "d5_xp - 0%\n",
      "d5_gold - 0%\n",
      "d5_lh - 0%\n",
      "d5_kills - 0%\n",
      "d5_deaths - 0%\n",
      "d5_items - 0%\n",
      "first_blood_time - 20%\n",
      "first_blood_team - 20%\n",
      "first_blood_player1 - 20%\n",
      "first_blood_player2 - 45%\n",
      "radiant_bottle_time - 16%\n",
      "radiant_courier_time - 1%\n",
      "radiant_flying_courier_time - 28%\n",
      "radiant_tpscroll_count - 0%\n",
      "radiant_boots_count - 0%\n",
      "radiant_ward_observer_count - 0%\n",
      "radiant_ward_sentry_count - 0%\n",
      "radiant_first_ward_time - 2%\n",
      "dire_bottle_time - 17%\n",
      "dire_courier_time - 1%\n",
      "dire_flying_courier_time - 27%\n",
      "dire_tpscroll_count - 0%\n",
      "dire_boots_count - 0%\n",
      "dire_ward_observer_count - 0%\n",
      "dire_ward_sentry_count - 0%\n",
      "dire_first_ward_time - 2%\n",
      "radiant_win - 0%\n"
     ]
    }
   ],
   "source": [
    "a = []\n",
    "for col in df.columns:\n",
    "    pct_missing = np.mean(df[col].isnull())\n",
    "    print('{} - {}%'.format(col, round(pct_missing*100)))\n",
    "    if round(pct_missing*100) > 0:\n",
    "        a.append(col)"
   ]
  },
  {
   "cell_type": "code",
   "execution_count": 3,
   "id": "2a1c5cea",
   "metadata": {},
   "outputs": [
    {
     "data": {
      "text/plain": [
       "['first_blood_time',\n",
       " 'first_blood_team',\n",
       " 'first_blood_player1',\n",
       " 'first_blood_player2',\n",
       " 'radiant_bottle_time',\n",
       " 'radiant_courier_time',\n",
       " 'radiant_flying_courier_time',\n",
       " 'radiant_first_ward_time',\n",
       " 'dire_bottle_time',\n",
       " 'dire_courier_time',\n",
       " 'dire_flying_courier_time',\n",
       " 'dire_first_ward_time']"
      ]
     },
     "execution_count": 3,
     "metadata": {},
     "output_type": "execute_result"
    }
   ],
   "source": [
    "a"
   ]
  },
  {
   "cell_type": "markdown",
   "id": "14668a57",
   "metadata": {},
   "source": [
    "### first_blood_player1 (игроки причастные к событию first_blood) - в 20% случаев первой крови нет в первые 5 минут игры\n",
    "### first_blood_time (игровое время первой крови) - в 20% случаев первой крови нет в первые 5 минут игры"
   ]
  },
  {
   "cell_type": "markdown",
   "id": "6509e768",
   "metadata": {},
   "source": [
    "##### 3. Замените пропуски на нули с помощью функции fillna(). На самом деле этот способ является предпочтительным для логистической регрессии, поскольку он позволит пропущенному значению не вносить никакого вклада в предсказание. Для деревьев часто лучшим вариантом оказывается замена пропуска на очень большое или очень маленькое значение — в этом случае при построении разбиения вершины можно будет отправить объекты с пропусками в отдельную ветвь дерева. Также есть и другие подходы — например, замена пропуска на среднее значение признака. Мы не требуем этого в задании, но при желании попробуйте разные подходы к обработке пропусков и сравните их между собой."
   ]
  },
  {
   "cell_type": "code",
   "execution_count": 4,
   "id": "ef7055f0",
   "metadata": {},
   "outputs": [],
   "source": [
    "df.fillna(0, inplace = True)"
   ]
  },
  {
   "cell_type": "markdown",
   "id": "d775553b",
   "metadata": {},
   "source": [
    "##### 4. Какой столбец содержит целевую переменную? Запишите его название."
   ]
  },
  {
   "cell_type": "code",
   "execution_count": 5,
   "id": "dd60252d",
   "metadata": {},
   "outputs": [
    {
     "data": {
      "text/plain": [
       "0        1\n",
       "1        1\n",
       "2        0\n",
       "3        0\n",
       "4        0\n",
       "        ..\n",
       "97225    0\n",
       "97226    1\n",
       "97227    0\n",
       "97228    0\n",
       "97229    1\n",
       "Name: radiant_win, Length: 97230, dtype: int64"
      ]
     },
     "execution_count": 5,
     "metadata": {},
     "output_type": "execute_result"
    }
   ],
   "source": [
    "df['radiant_win']"
   ]
  },
  {
   "cell_type": "markdown",
   "id": "191d75ec",
   "metadata": {},
   "source": [
    "##### Забудем, что в выборке есть категориальные признаки, и попробуем обучить градиентный бустинг над деревьями на имеющейся матрице \"объекты-признаки\". Зафиксируйте генератор разбиений для кросс-валидации по 5 блокам (KFold), не забудьте перемешать при этом выборку (shuffle=True), поскольку данные в таблице отсортированы по времени, и без перемешивания можно столкнуться с нежелательными эффектами при оценивании качества. Оцените качество градиентного бустинга (GradientBoostingClassifier) с помощью данной кросс-валидации, попробуйте при этом разное количество деревьев (как минимум протестируйте следующие значения для количества деревьев: 10, 20, 30). Долго ли настраивались классификаторы? Достигнут ли оптимум на испытанных значениях параметра n_estimators, или же качество, скорее всего, продолжит расти при дальнейшем его увеличении?"
   ]
  },
  {
   "cell_type": "code",
   "execution_count": 9,
   "id": "0843a7f9",
   "metadata": {},
   "outputs": [
    {
     "name": "stdout",
     "output_type": "stream",
     "text": [
      "tree: 5, score: 0.6353574331143763\n",
      "tree: 10, score: 0.6648506879750012\n",
      "tree: 15, score: 0.6762504876906534\n",
      "time:0:02:42.645202\n",
      "tree: 30, score: 0.6900064710388155\n",
      "tree: 50, score: 0.6974943609466162\n",
      "tree: 100, score: 0.7062341833296908\n",
      "tree: 150, score: 0.7103706760549959\n"
     ]
    },
    {
     "data": {
      "image/png": "[encoded data removed]",
      "text/plain": [
       "<Figure size 432x288 with 1 Axes>"
      ]
     },
     "metadata": {
      "needs_background": "light"
     },
     "output_type": "display_data"
    }
   ],
   "source": [
    "import datetime\n",
    "from sklearn.model_selection import KFold\n",
    "from sklearn.ensemble import GradientBoostingClassifier\n",
    "from sklearn.metrics import roc_auc_score\n",
    "from sklearn.model_selection import KFold, cross_val_score\n",
    "import matplotlib.pyplot as plot\n",
    "\n",
    "X_train = df.drop('radiant_win',axis = 1)\n",
    "y_train = df.radiant_win\n",
    "# Разделение выборки для кроссвалидации\n",
    "cv = KFold(n_splits = 5,shuffle = True,random_state = 42)\n",
    "# Кол-ва деревьев для модели\n",
    "number_of_trees = [5,10,15,30,50,100,150]\n",
    "\n",
    "# Список для записи результатов\n",
    "scores = []\n",
    "\n",
    "for tree in number_of_trees:\n",
    "    model = GradientBoostingClassifier(n_estimators=tree, random_state=42)\n",
    "    if tree == 30:\n",
    "        start_time = datetime.datetime.now()\n",
    "    model_scores = cross_val_score(model,X_train,y_train,cv = cv,scoring = 'roc_auc')\n",
    "    if tree == 30:\n",
    "        finish_time = datetime.datetime.now()\n",
    "        print(f'time:{finish_time-start_time}')\n",
    "    print(f'tree: {tree}, score: {np.mean(model_scores)}')\n",
    "    scores.append(np.mean(model_scores))\n",
    "plot.plot(number_of_trees, scores)\n",
    "plot.xlabel('trees')\n",
    "plot.ylabel('scores')\n",
    "plot.show()    "
   ]
  },
  {
   "cell_type": "markdown",
   "id": "3a4fbe40",
   "metadata": {},
   "source": [
    "### Кросс-валидация для градиентного бустинга с 30 деревьями заняла 0:02:42.645202. Показатель AUC-ROC равен 0.69"
   ]
  },
  {
   "cell_type": "markdown",
   "id": "8847503d",
   "metadata": {},
   "source": [
    "### Есть смысл использовать больше 30 деревьев, так как метрика увеличится. Для ускорения обучения можно уменьшить глубину деревьев (параметр max_depth)"
   ]
  },
  {
   "cell_type": "markdown",
   "id": "5a42db0a",
   "metadata": {},
   "source": [
    "# Логистическая регрессия(2 задание)"
   ]
  },
  {
   "cell_type": "markdown",
   "id": "7bf8c887",
   "metadata": {},
   "source": [
    "##### 1. Оцените качество логистической регрессии (sklearn.linear_model.LogisticRegression с L2-регуляризацией) с помощью кросс-валидации по той же схеме, которая использовалась для градиентного бустинга. Подберите при этом лучший параметр регуляризации (C). Какое наилучшее качество у вас получилось? Как оно соотносится с качеством градиентного бустинга? Чем вы можете объяснить эту разницу? Быстрее ли работает логистическая регрессия по сравнению с градиентным бустингом?"
   ]
  },
  {
   "cell_type": "code",
   "execution_count": 1,
   "id": "84db9fbd",
   "metadata": {},
   "outputs": [],
   "source": [
    "import pandas as pd\n",
    "import numpy as np\n",
    "df = pd.read_csv('features.csv', index_col = 'match_id')\n",
    "df.drop(['duration', 'tower_status_radiant', 'tower_status_dire', 'barracks_status_radiant', 'barracks_status_dire']\n",
    "           , axis=1, inplace=True)\n",
    "df.fillna(0, inplace = True)"
   ]
  },
  {
   "cell_type": "code",
   "execution_count": 2,
   "id": "eec01801",
   "metadata": {},
   "outputs": [],
   "source": [
    "from sklearn.preprocessing import StandardScaler\n",
    "\n",
    "cat_cols = ['r1_hero', 'r2_hero', 'r3_hero', 'r4_hero', 'r5_hero',\n",
    "                      'd1_hero', 'd2_hero', 'd3_hero', 'd4_hero', 'd5_hero','lobby_type']\n",
    "columns_to_scale = df.columns.difference(['radiant_win', 'start_time'] + cat_cols)\n",
    "\n",
    "data = df[columns_to_scale].values\n",
    "scaler = StandardScaler()\n",
    "data = scaler.fit_transform(data)\n",
    "for i, column in enumerate(columns_to_scale):\n",
    "    df[column] = data[:, i]"
   ]
  },
  {
   "cell_type": "code",
   "execution_count": 3,
   "id": "8af30f12",
   "metadata": {},
   "outputs": [],
   "source": [
    "columns_to_matrix = df.columns.difference(['radiant_win', 'start_time'])\n",
    "x = df[columns_to_matrix].values\n",
    "y = np.ravel(df['radiant_win'].values)"
   ]
  },
  {
   "cell_type": "code",
   "execution_count": 4,
   "id": "630bab59",
   "metadata": {},
   "outputs": [
    {
     "data": {
      "text/plain": [
       "array([[-0.56456187, -0.33765018,  4.        , ..., -0.51455507,\n",
       "        -0.53204608, -0.98748588],\n",
       "       [-0.56456187,  0.50746532, 39.        , ..., -0.51455507,\n",
       "        -0.53204608, -0.98748588],\n",
       "       [ 1.07617075,  1.91018279, 22.        , ..., -0.51455507,\n",
       "        -0.53204608,  0.39120271],\n",
       "       ...,\n",
       "       [ 1.07617075, -0.70575461, 28.        , ..., -0.51455507,\n",
       "         1.93273572,  1.7698913 ],\n",
       "       [-0.56456187,  0.60112502, 59.        , ...,  1.55447532,\n",
       "         0.70034482, -0.98748588],\n",
       "       [ 1.07617075, -1.07603717, 99.        , ..., -0.51455507,\n",
       "         1.93273572, -0.98748588]])"
      ]
     },
     "execution_count": 4,
     "metadata": {},
     "output_type": "execute_result"
    }
   ],
   "source": [
    "x"
   ]
  },
  {
   "cell_type": "code",
   "execution_count": 5,
   "id": "c28051b4",
   "metadata": {},
   "outputs": [
    {
     "name": "stdout",
     "output_type": "stream",
     "text": [
      "C:1e-05\n"
     ]
    },
    {
     "name": "stderr",
     "output_type": "stream",
     "text": [
      "/opt/conda/lib/python3.8/site-packages/sklearn/linear_model/_logistic.py:814: ConvergenceWarning: lbfgs failed to converge (status=1):\n",
      "STOP: TOTAL NO. of ITERATIONS REACHED LIMIT.\n",
      "\n",
      "Increase the number of iterations (max_iter) or scale the data as shown in:\n",
      "    https://scikit-learn.org/stable/modules/preprocessing.html\n",
      "Please also refer to the documentation for alternative solver options:\n",
      "    https://scikit-learn.org/stable/modules/linear_model.html#logistic-regression\n",
      "  n_iter_i = _check_optimize_result(\n",
      "/opt/conda/lib/python3.8/site-packages/sklearn/linear_model/_logistic.py:814: ConvergenceWarning: lbfgs failed to converge (status=1):\n",
      "STOP: TOTAL NO. of ITERATIONS REACHED LIMIT.\n",
      "\n",
      "Increase the number of iterations (max_iter) or scale the data as shown in:\n",
      "    https://scikit-learn.org/stable/modules/preprocessing.html\n",
      "Please also refer to the documentation for alternative solver options:\n",
      "    https://scikit-learn.org/stable/modules/linear_model.html#logistic-regression\n",
      "  n_iter_i = _check_optimize_result(\n"
     ]
    },
    {
     "name": "stdout",
     "output_type": "stream",
     "text": [
      "[0.69342056 0.69364399 0.69499467 0.69416031 0.69578412]\n",
      "0.6944007308154861\n",
      "Time spent:  0:00:07.956699\n",
      "C:0.0001\n"
     ]
    },
    {
     "name": "stderr",
     "output_type": "stream",
     "text": [
      "/opt/conda/lib/python3.8/site-packages/sklearn/linear_model/_logistic.py:814: ConvergenceWarning: lbfgs failed to converge (status=1):\n",
      "STOP: TOTAL NO. of ITERATIONS REACHED LIMIT.\n",
      "\n",
      "Increase the number of iterations (max_iter) or scale the data as shown in:\n",
      "    https://scikit-learn.org/stable/modules/preprocessing.html\n",
      "Please also refer to the documentation for alternative solver options:\n",
      "    https://scikit-learn.org/stable/modules/linear_model.html#logistic-regression\n",
      "  n_iter_i = _check_optimize_result(\n",
      "/opt/conda/lib/python3.8/site-packages/sklearn/linear_model/_logistic.py:814: ConvergenceWarning: lbfgs failed to converge (status=1):\n",
      "STOP: TOTAL NO. of ITERATIONS REACHED LIMIT.\n",
      "\n",
      "Increase the number of iterations (max_iter) or scale the data as shown in:\n",
      "    https://scikit-learn.org/stable/modules/preprocessing.html\n",
      "Please also refer to the documentation for alternative solver options:\n",
      "    https://scikit-learn.org/stable/modules/linear_model.html#logistic-regression\n",
      "  n_iter_i = _check_optimize_result(\n",
      "/opt/conda/lib/python3.8/site-packages/sklearn/linear_model/_logistic.py:814: ConvergenceWarning: lbfgs failed to converge (status=1):\n",
      "STOP: TOTAL NO. of ITERATIONS REACHED LIMIT.\n",
      "\n",
      "Increase the number of iterations (max_iter) or scale the data as shown in:\n",
      "    https://scikit-learn.org/stable/modules/preprocessing.html\n",
      "Please also refer to the documentation for alternative solver options:\n",
      "    https://scikit-learn.org/stable/modules/linear_model.html#logistic-regression\n",
      "  n_iter_i = _check_optimize_result(\n",
      "/opt/conda/lib/python3.8/site-packages/sklearn/linear_model/_logistic.py:814: ConvergenceWarning: lbfgs failed to converge (status=1):\n",
      "STOP: TOTAL NO. of ITERATIONS REACHED LIMIT.\n",
      "\n",
      "Increase the number of iterations (max_iter) or scale the data as shown in:\n",
      "    https://scikit-learn.org/stable/modules/preprocessing.html\n",
      "Please also refer to the documentation for alternative solver options:\n",
      "    https://scikit-learn.org/stable/modules/linear_model.html#logistic-regression\n",
      "  n_iter_i = _check_optimize_result(\n",
      "/opt/conda/lib/python3.8/site-packages/sklearn/linear_model/_logistic.py:814: ConvergenceWarning: lbfgs failed to converge (status=1):\n",
      "STOP: TOTAL NO. of ITERATIONS REACHED LIMIT.\n",
      "\n",
      "Increase the number of iterations (max_iter) or scale the data as shown in:\n",
      "    https://scikit-learn.org/stable/modules/preprocessing.html\n",
      "Please also refer to the documentation for alternative solver options:\n",
      "    https://scikit-learn.org/stable/modules/linear_model.html#logistic-regression\n",
      "  n_iter_i = _check_optimize_result(\n"
     ]
    },
    {
     "name": "stdout",
     "output_type": "stream",
     "text": [
      "[0.70969928 0.70987078 0.71122227 0.71138146 0.71333999]\n",
      "0.7111027553665816\n",
      "Time spent:  0:00:09.278223\n",
      "C:0.001\n"
     ]
    },
    {
     "name": "stderr",
     "output_type": "stream",
     "text": [
      "/opt/conda/lib/python3.8/site-packages/sklearn/linear_model/_logistic.py:814: ConvergenceWarning: lbfgs failed to converge (status=1):\n",
      "STOP: TOTAL NO. of ITERATIONS REACHED LIMIT.\n",
      "\n",
      "Increase the number of iterations (max_iter) or scale the data as shown in:\n",
      "    https://scikit-learn.org/stable/modules/preprocessing.html\n",
      "Please also refer to the documentation for alternative solver options:\n",
      "    https://scikit-learn.org/stable/modules/linear_model.html#logistic-regression\n",
      "  n_iter_i = _check_optimize_result(\n",
      "/opt/conda/lib/python3.8/site-packages/sklearn/linear_model/_logistic.py:814: ConvergenceWarning: lbfgs failed to converge (status=1):\n",
      "STOP: TOTAL NO. of ITERATIONS REACHED LIMIT.\n",
      "\n",
      "Increase the number of iterations (max_iter) or scale the data as shown in:\n",
      "    https://scikit-learn.org/stable/modules/preprocessing.html\n",
      "Please also refer to the documentation for alternative solver options:\n",
      "    https://scikit-learn.org/stable/modules/linear_model.html#logistic-regression\n",
      "  n_iter_i = _check_optimize_result(\n",
      "/opt/conda/lib/python3.8/site-packages/sklearn/linear_model/_logistic.py:814: ConvergenceWarning: lbfgs failed to converge (status=1):\n",
      "STOP: TOTAL NO. of ITERATIONS REACHED LIMIT.\n",
      "\n",
      "Increase the number of iterations (max_iter) or scale the data as shown in:\n",
      "    https://scikit-learn.org/stable/modules/preprocessing.html\n",
      "Please also refer to the documentation for alternative solver options:\n",
      "    https://scikit-learn.org/stable/modules/linear_model.html#logistic-regression\n",
      "  n_iter_i = _check_optimize_result(\n",
      "/opt/conda/lib/python3.8/site-packages/sklearn/linear_model/_logistic.py:814: ConvergenceWarning: lbfgs failed to converge (status=1):\n",
      "STOP: TOTAL NO. of ITERATIONS REACHED LIMIT.\n",
      "\n",
      "Increase the number of iterations (max_iter) or scale the data as shown in:\n",
      "    https://scikit-learn.org/stable/modules/preprocessing.html\n",
      "Please also refer to the documentation for alternative solver options:\n",
      "    https://scikit-learn.org/stable/modules/linear_model.html#logistic-regression\n",
      "  n_iter_i = _check_optimize_result(\n",
      "/opt/conda/lib/python3.8/site-packages/sklearn/linear_model/_logistic.py:814: ConvergenceWarning: lbfgs failed to converge (status=1):\n",
      "STOP: TOTAL NO. of ITERATIONS REACHED LIMIT.\n",
      "\n",
      "Increase the number of iterations (max_iter) or scale the data as shown in:\n",
      "    https://scikit-learn.org/stable/modules/preprocessing.html\n",
      "Please also refer to the documentation for alternative solver options:\n",
      "    https://scikit-learn.org/stable/modules/linear_model.html#logistic-regression\n",
      "  n_iter_i = _check_optimize_result(\n"
     ]
    },
    {
     "name": "stdout",
     "output_type": "stream",
     "text": [
      "[0.71416547 0.71461707 0.71553508 0.71619703 0.71789698]\n",
      "0.7156823274829807\n",
      "Time spent:  0:00:07.904572\n",
      "C:0.01\n"
     ]
    },
    {
     "name": "stderr",
     "output_type": "stream",
     "text": [
      "/opt/conda/lib/python3.8/site-packages/sklearn/linear_model/_logistic.py:814: ConvergenceWarning: lbfgs failed to converge (status=1):\n",
      "STOP: TOTAL NO. of ITERATIONS REACHED LIMIT.\n",
      "\n",
      "Increase the number of iterations (max_iter) or scale the data as shown in:\n",
      "    https://scikit-learn.org/stable/modules/preprocessing.html\n",
      "Please also refer to the documentation for alternative solver options:\n",
      "    https://scikit-learn.org/stable/modules/linear_model.html#logistic-regression\n",
      "  n_iter_i = _check_optimize_result(\n",
      "/opt/conda/lib/python3.8/site-packages/sklearn/linear_model/_logistic.py:814: ConvergenceWarning: lbfgs failed to converge (status=1):\n",
      "STOP: TOTAL NO. of ITERATIONS REACHED LIMIT.\n",
      "\n",
      "Increase the number of iterations (max_iter) or scale the data as shown in:\n",
      "    https://scikit-learn.org/stable/modules/preprocessing.html\n",
      "Please also refer to the documentation for alternative solver options:\n",
      "    https://scikit-learn.org/stable/modules/linear_model.html#logistic-regression\n",
      "  n_iter_i = _check_optimize_result(\n",
      "/opt/conda/lib/python3.8/site-packages/sklearn/linear_model/_logistic.py:814: ConvergenceWarning: lbfgs failed to converge (status=1):\n",
      "STOP: TOTAL NO. of ITERATIONS REACHED LIMIT.\n",
      "\n",
      "Increase the number of iterations (max_iter) or scale the data as shown in:\n",
      "    https://scikit-learn.org/stable/modules/preprocessing.html\n",
      "Please also refer to the documentation for alternative solver options:\n",
      "    https://scikit-learn.org/stable/modules/linear_model.html#logistic-regression\n",
      "  n_iter_i = _check_optimize_result(\n",
      "/opt/conda/lib/python3.8/site-packages/sklearn/linear_model/_logistic.py:814: ConvergenceWarning: lbfgs failed to converge (status=1):\n",
      "STOP: TOTAL NO. of ITERATIONS REACHED LIMIT.\n",
      "\n",
      "Increase the number of iterations (max_iter) or scale the data as shown in:\n",
      "    https://scikit-learn.org/stable/modules/preprocessing.html\n",
      "Please also refer to the documentation for alternative solver options:\n",
      "    https://scikit-learn.org/stable/modules/linear_model.html#logistic-regression\n",
      "  n_iter_i = _check_optimize_result(\n",
      "/opt/conda/lib/python3.8/site-packages/sklearn/linear_model/_logistic.py:814: ConvergenceWarning: lbfgs failed to converge (status=1):\n",
      "STOP: TOTAL NO. of ITERATIONS REACHED LIMIT.\n",
      "\n",
      "Increase the number of iterations (max_iter) or scale the data as shown in:\n",
      "    https://scikit-learn.org/stable/modules/preprocessing.html\n",
      "Please also refer to the documentation for alternative solver options:\n",
      "    https://scikit-learn.org/stable/modules/linear_model.html#logistic-regression\n",
      "  n_iter_i = _check_optimize_result(\n"
     ]
    },
    {
     "name": "stdout",
     "output_type": "stream",
     "text": [
      "[0.71444153 0.71544647 0.71528307 0.71591098 0.71829259]\n",
      "0.7158749274978009\n",
      "Time spent:  0:00:10.127936\n",
      "C:0.1\n"
     ]
    },
    {
     "name": "stderr",
     "output_type": "stream",
     "text": [
      "/opt/conda/lib/python3.8/site-packages/sklearn/linear_model/_logistic.py:814: ConvergenceWarning: lbfgs failed to converge (status=1):\n",
      "STOP: TOTAL NO. of ITERATIONS REACHED LIMIT.\n",
      "\n",
      "Increase the number of iterations (max_iter) or scale the data as shown in:\n",
      "    https://scikit-learn.org/stable/modules/preprocessing.html\n",
      "Please also refer to the documentation for alternative solver options:\n",
      "    https://scikit-learn.org/stable/modules/linear_model.html#logistic-regression\n",
      "  n_iter_i = _check_optimize_result(\n",
      "/opt/conda/lib/python3.8/site-packages/sklearn/linear_model/_logistic.py:814: ConvergenceWarning: lbfgs failed to converge (status=1):\n",
      "STOP: TOTAL NO. of ITERATIONS REACHED LIMIT.\n",
      "\n",
      "Increase the number of iterations (max_iter) or scale the data as shown in:\n",
      "    https://scikit-learn.org/stable/modules/preprocessing.html\n",
      "Please also refer to the documentation for alternative solver options:\n",
      "    https://scikit-learn.org/stable/modules/linear_model.html#logistic-regression\n",
      "  n_iter_i = _check_optimize_result(\n",
      "/opt/conda/lib/python3.8/site-packages/sklearn/linear_model/_logistic.py:814: ConvergenceWarning: lbfgs failed to converge (status=1):\n",
      "STOP: TOTAL NO. of ITERATIONS REACHED LIMIT.\n",
      "\n",
      "Increase the number of iterations (max_iter) or scale the data as shown in:\n",
      "    https://scikit-learn.org/stable/modules/preprocessing.html\n",
      "Please also refer to the documentation for alternative solver options:\n",
      "    https://scikit-learn.org/stable/modules/linear_model.html#logistic-regression\n",
      "  n_iter_i = _check_optimize_result(\n",
      "/opt/conda/lib/python3.8/site-packages/sklearn/linear_model/_logistic.py:814: ConvergenceWarning: lbfgs failed to converge (status=1):\n",
      "STOP: TOTAL NO. of ITERATIONS REACHED LIMIT.\n",
      "\n",
      "Increase the number of iterations (max_iter) or scale the data as shown in:\n",
      "    https://scikit-learn.org/stable/modules/preprocessing.html\n",
      "Please also refer to the documentation for alternative solver options:\n",
      "    https://scikit-learn.org/stable/modules/linear_model.html#logistic-regression\n",
      "  n_iter_i = _check_optimize_result(\n",
      "/opt/conda/lib/python3.8/site-packages/sklearn/linear_model/_logistic.py:814: ConvergenceWarning: lbfgs failed to converge (status=1):\n",
      "STOP: TOTAL NO. of ITERATIONS REACHED LIMIT.\n",
      "\n",
      "Increase the number of iterations (max_iter) or scale the data as shown in:\n",
      "    https://scikit-learn.org/stable/modules/preprocessing.html\n",
      "Please also refer to the documentation for alternative solver options:\n",
      "    https://scikit-learn.org/stable/modules/linear_model.html#logistic-regression\n",
      "  n_iter_i = _check_optimize_result(\n"
     ]
    },
    {
     "name": "stdout",
     "output_type": "stream",
     "text": [
      "[0.71408695 0.71523989 0.71547752 0.71564855 0.71842205]\n",
      "0.7157749916020593\n",
      "Time spent:  0:00:12.694351\n",
      "C:1.0\n"
     ]
    },
    {
     "name": "stderr",
     "output_type": "stream",
     "text": [
      "/opt/conda/lib/python3.8/site-packages/sklearn/linear_model/_logistic.py:814: ConvergenceWarning: lbfgs failed to converge (status=1):\n",
      "STOP: TOTAL NO. of ITERATIONS REACHED LIMIT.\n",
      "\n",
      "Increase the number of iterations (max_iter) or scale the data as shown in:\n",
      "    https://scikit-learn.org/stable/modules/preprocessing.html\n",
      "Please also refer to the documentation for alternative solver options:\n",
      "    https://scikit-learn.org/stable/modules/linear_model.html#logistic-regression\n",
      "  n_iter_i = _check_optimize_result(\n",
      "/opt/conda/lib/python3.8/site-packages/sklearn/linear_model/_logistic.py:814: ConvergenceWarning: lbfgs failed to converge (status=1):\n",
      "STOP: TOTAL NO. of ITERATIONS REACHED LIMIT.\n",
      "\n",
      "Increase the number of iterations (max_iter) or scale the data as shown in:\n",
      "    https://scikit-learn.org/stable/modules/preprocessing.html\n",
      "Please also refer to the documentation for alternative solver options:\n",
      "    https://scikit-learn.org/stable/modules/linear_model.html#logistic-regression\n",
      "  n_iter_i = _check_optimize_result(\n",
      "/opt/conda/lib/python3.8/site-packages/sklearn/linear_model/_logistic.py:814: ConvergenceWarning: lbfgs failed to converge (status=1):\n",
      "STOP: TOTAL NO. of ITERATIONS REACHED LIMIT.\n",
      "\n",
      "Increase the number of iterations (max_iter) or scale the data as shown in:\n",
      "    https://scikit-learn.org/stable/modules/preprocessing.html\n",
      "Please also refer to the documentation for alternative solver options:\n",
      "    https://scikit-learn.org/stable/modules/linear_model.html#logistic-regression\n",
      "  n_iter_i = _check_optimize_result(\n",
      "/opt/conda/lib/python3.8/site-packages/sklearn/linear_model/_logistic.py:814: ConvergenceWarning: lbfgs failed to converge (status=1):\n",
      "STOP: TOTAL NO. of ITERATIONS REACHED LIMIT.\n",
      "\n",
      "Increase the number of iterations (max_iter) or scale the data as shown in:\n",
      "    https://scikit-learn.org/stable/modules/preprocessing.html\n",
      "Please also refer to the documentation for alternative solver options:\n",
      "    https://scikit-learn.org/stable/modules/linear_model.html#logistic-regression\n",
      "  n_iter_i = _check_optimize_result(\n",
      "/opt/conda/lib/python3.8/site-packages/sklearn/linear_model/_logistic.py:814: ConvergenceWarning: lbfgs failed to converge (status=1):\n",
      "STOP: TOTAL NO. of ITERATIONS REACHED LIMIT.\n",
      "\n",
      "Increase the number of iterations (max_iter) or scale the data as shown in:\n",
      "    https://scikit-learn.org/stable/modules/preprocessing.html\n",
      "Please also refer to the documentation for alternative solver options:\n",
      "    https://scikit-learn.org/stable/modules/linear_model.html#logistic-regression\n",
      "  n_iter_i = _check_optimize_result(\n"
     ]
    },
    {
     "name": "stdout",
     "output_type": "stream",
     "text": [
      "[0.71409561 0.71534228 0.71520906 0.7159858  0.71766454]\n",
      "0.7156594592360933\n",
      "Time spent:  0:00:12.706639\n",
      "C:10.0\n"
     ]
    },
    {
     "name": "stderr",
     "output_type": "stream",
     "text": [
      "/opt/conda/lib/python3.8/site-packages/sklearn/linear_model/_logistic.py:814: ConvergenceWarning: lbfgs failed to converge (status=1):\n",
      "STOP: TOTAL NO. of ITERATIONS REACHED LIMIT.\n",
      "\n",
      "Increase the number of iterations (max_iter) or scale the data as shown in:\n",
      "    https://scikit-learn.org/stable/modules/preprocessing.html\n",
      "Please also refer to the documentation for alternative solver options:\n",
      "    https://scikit-learn.org/stable/modules/linear_model.html#logistic-regression\n",
      "  n_iter_i = _check_optimize_result(\n",
      "/opt/conda/lib/python3.8/site-packages/sklearn/linear_model/_logistic.py:814: ConvergenceWarning: lbfgs failed to converge (status=1):\n",
      "STOP: TOTAL NO. of ITERATIONS REACHED LIMIT.\n",
      "\n",
      "Increase the number of iterations (max_iter) or scale the data as shown in:\n",
      "    https://scikit-learn.org/stable/modules/preprocessing.html\n",
      "Please also refer to the documentation for alternative solver options:\n",
      "    https://scikit-learn.org/stable/modules/linear_model.html#logistic-regression\n",
      "  n_iter_i = _check_optimize_result(\n",
      "/opt/conda/lib/python3.8/site-packages/sklearn/linear_model/_logistic.py:814: ConvergenceWarning: lbfgs failed to converge (status=1):\n",
      "STOP: TOTAL NO. of ITERATIONS REACHED LIMIT.\n",
      "\n",
      "Increase the number of iterations (max_iter) or scale the data as shown in:\n",
      "    https://scikit-learn.org/stable/modules/preprocessing.html\n",
      "Please also refer to the documentation for alternative solver options:\n",
      "    https://scikit-learn.org/stable/modules/linear_model.html#logistic-regression\n",
      "  n_iter_i = _check_optimize_result(\n",
      "/opt/conda/lib/python3.8/site-packages/sklearn/linear_model/_logistic.py:814: ConvergenceWarning: lbfgs failed to converge (status=1):\n",
      "STOP: TOTAL NO. of ITERATIONS REACHED LIMIT.\n",
      "\n",
      "Increase the number of iterations (max_iter) or scale the data as shown in:\n",
      "    https://scikit-learn.org/stable/modules/preprocessing.html\n",
      "Please also refer to the documentation for alternative solver options:\n",
      "    https://scikit-learn.org/stable/modules/linear_model.html#logistic-regression\n",
      "  n_iter_i = _check_optimize_result(\n",
      "/opt/conda/lib/python3.8/site-packages/sklearn/linear_model/_logistic.py:814: ConvergenceWarning: lbfgs failed to converge (status=1):\n",
      "STOP: TOTAL NO. of ITERATIONS REACHED LIMIT.\n",
      "\n",
      "Increase the number of iterations (max_iter) or scale the data as shown in:\n",
      "    https://scikit-learn.org/stable/modules/preprocessing.html\n",
      "Please also refer to the documentation for alternative solver options:\n",
      "    https://scikit-learn.org/stable/modules/linear_model.html#logistic-regression\n",
      "  n_iter_i = _check_optimize_result(\n"
     ]
    },
    {
     "name": "stdout",
     "output_type": "stream",
     "text": [
      "[0.71370923 0.71538024 0.71524358 0.71609191 0.71803543]\n",
      "0.7156920800766996\n",
      "Time spent:  0:00:09.276903\n",
      "C:100.0\n"
     ]
    },
    {
     "name": "stderr",
     "output_type": "stream",
     "text": [
      "/opt/conda/lib/python3.8/site-packages/sklearn/linear_model/_logistic.py:814: ConvergenceWarning: lbfgs failed to converge (status=1):\n",
      "STOP: TOTAL NO. of ITERATIONS REACHED LIMIT.\n",
      "\n",
      "Increase the number of iterations (max_iter) or scale the data as shown in:\n",
      "    https://scikit-learn.org/stable/modules/preprocessing.html\n",
      "Please also refer to the documentation for alternative solver options:\n",
      "    https://scikit-learn.org/stable/modules/linear_model.html#logistic-regression\n",
      "  n_iter_i = _check_optimize_result(\n",
      "/opt/conda/lib/python3.8/site-packages/sklearn/linear_model/_logistic.py:814: ConvergenceWarning: lbfgs failed to converge (status=1):\n",
      "STOP: TOTAL NO. of ITERATIONS REACHED LIMIT.\n",
      "\n",
      "Increase the number of iterations (max_iter) or scale the data as shown in:\n",
      "    https://scikit-learn.org/stable/modules/preprocessing.html\n",
      "Please also refer to the documentation for alternative solver options:\n",
      "    https://scikit-learn.org/stable/modules/linear_model.html#logistic-regression\n",
      "  n_iter_i = _check_optimize_result(\n",
      "/opt/conda/lib/python3.8/site-packages/sklearn/linear_model/_logistic.py:814: ConvergenceWarning: lbfgs failed to converge (status=1):\n",
      "STOP: TOTAL NO. of ITERATIONS REACHED LIMIT.\n",
      "\n",
      "Increase the number of iterations (max_iter) or scale the data as shown in:\n",
      "    https://scikit-learn.org/stable/modules/preprocessing.html\n",
      "Please also refer to the documentation for alternative solver options:\n",
      "    https://scikit-learn.org/stable/modules/linear_model.html#logistic-regression\n",
      "  n_iter_i = _check_optimize_result(\n",
      "/opt/conda/lib/python3.8/site-packages/sklearn/linear_model/_logistic.py:814: ConvergenceWarning: lbfgs failed to converge (status=1):\n",
      "STOP: TOTAL NO. of ITERATIONS REACHED LIMIT.\n",
      "\n",
      "Increase the number of iterations (max_iter) or scale the data as shown in:\n",
      "    https://scikit-learn.org/stable/modules/preprocessing.html\n",
      "Please also refer to the documentation for alternative solver options:\n",
      "    https://scikit-learn.org/stable/modules/linear_model.html#logistic-regression\n",
      "  n_iter_i = _check_optimize_result(\n",
      "/opt/conda/lib/python3.8/site-packages/sklearn/linear_model/_logistic.py:814: ConvergenceWarning: lbfgs failed to converge (status=1):\n",
      "STOP: TOTAL NO. of ITERATIONS REACHED LIMIT.\n",
      "\n",
      "Increase the number of iterations (max_iter) or scale the data as shown in:\n",
      "    https://scikit-learn.org/stable/modules/preprocessing.html\n",
      "Please also refer to the documentation for alternative solver options:\n",
      "    https://scikit-learn.org/stable/modules/linear_model.html#logistic-regression\n",
      "  n_iter_i = _check_optimize_result(\n"
     ]
    },
    {
     "name": "stdout",
     "output_type": "stream",
     "text": [
      "[0.71411915 0.71536514 0.71525057 0.71581334 0.71815516]\n",
      "0.7157406717369925\n",
      "Time spent:  0:00:07.352783\n",
      "C:1000.0\n"
     ]
    },
    {
     "name": "stderr",
     "output_type": "stream",
     "text": [
      "/opt/conda/lib/python3.8/site-packages/sklearn/linear_model/_logistic.py:814: ConvergenceWarning: lbfgs failed to converge (status=1):\n",
      "STOP: TOTAL NO. of ITERATIONS REACHED LIMIT.\n",
      "\n",
      "Increase the number of iterations (max_iter) or scale the data as shown in:\n",
      "    https://scikit-learn.org/stable/modules/preprocessing.html\n",
      "Please also refer to the documentation for alternative solver options:\n",
      "    https://scikit-learn.org/stable/modules/linear_model.html#logistic-regression\n",
      "  n_iter_i = _check_optimize_result(\n",
      "/opt/conda/lib/python3.8/site-packages/sklearn/linear_model/_logistic.py:814: ConvergenceWarning: lbfgs failed to converge (status=1):\n",
      "STOP: TOTAL NO. of ITERATIONS REACHED LIMIT.\n",
      "\n",
      "Increase the number of iterations (max_iter) or scale the data as shown in:\n",
      "    https://scikit-learn.org/stable/modules/preprocessing.html\n",
      "Please also refer to the documentation for alternative solver options:\n",
      "    https://scikit-learn.org/stable/modules/linear_model.html#logistic-regression\n",
      "  n_iter_i = _check_optimize_result(\n",
      "/opt/conda/lib/python3.8/site-packages/sklearn/linear_model/_logistic.py:814: ConvergenceWarning: lbfgs failed to converge (status=1):\n",
      "STOP: TOTAL NO. of ITERATIONS REACHED LIMIT.\n",
      "\n",
      "Increase the number of iterations (max_iter) or scale the data as shown in:\n",
      "    https://scikit-learn.org/stable/modules/preprocessing.html\n",
      "Please also refer to the documentation for alternative solver options:\n",
      "    https://scikit-learn.org/stable/modules/linear_model.html#logistic-regression\n",
      "  n_iter_i = _check_optimize_result(\n",
      "/opt/conda/lib/python3.8/site-packages/sklearn/linear_model/_logistic.py:814: ConvergenceWarning: lbfgs failed to converge (status=1):\n",
      "STOP: TOTAL NO. of ITERATIONS REACHED LIMIT.\n",
      "\n",
      "Increase the number of iterations (max_iter) or scale the data as shown in:\n",
      "    https://scikit-learn.org/stable/modules/preprocessing.html\n",
      "Please also refer to the documentation for alternative solver options:\n",
      "    https://scikit-learn.org/stable/modules/linear_model.html#logistic-regression\n",
      "  n_iter_i = _check_optimize_result(\n",
      "/opt/conda/lib/python3.8/site-packages/sklearn/linear_model/_logistic.py:814: ConvergenceWarning: lbfgs failed to converge (status=1):\n",
      "STOP: TOTAL NO. of ITERATIONS REACHED LIMIT.\n",
      "\n",
      "Increase the number of iterations (max_iter) or scale the data as shown in:\n",
      "    https://scikit-learn.org/stable/modules/preprocessing.html\n",
      "Please also refer to the documentation for alternative solver options:\n",
      "    https://scikit-learn.org/stable/modules/linear_model.html#logistic-regression\n",
      "  n_iter_i = _check_optimize_result(\n"
     ]
    },
    {
     "name": "stdout",
     "output_type": "stream",
     "text": [
      "[0.7140216  0.71473592 0.71549371 0.71582509 0.71798976]\n",
      "0.7156132158301501\n",
      "Time spent:  0:00:10.320649\n"
     ]
    },
    {
     "data": {
      "image/png": "[encoded data removed]",
      "text/plain": [
       "<Figure size 432x288 with 1 Axes>"
      ]
     },
     "metadata": {
      "needs_background": "light"
     },
     "output_type": "display_data"
    }
   ],
   "source": [
    "import datetime\n",
    "from sklearn.linear_model import LogisticRegression\n",
    "from sklearn.metrics import roc_auc_score\n",
    "from sklearn.model_selection import KFold, cross_val_score\n",
    "import matplotlib.pyplot as plot\n",
    "\n",
    "cv = KFold(random_state = 42,shuffle = True,n_splits = 5)\n",
    "C_range = [10.0 ** i for i in range(-5,4)]\n",
    "scores = []\n",
    "dic = {}\n",
    "for C in C_range:\n",
    "    print(f'C:{C}')\n",
    "    start_time = datetime.datetime.now()\n",
    "    model = LogisticRegression(random_state = 42, C = C)\n",
    "    m_scores = cross_val_score(model,x,y,cv=cv,scoring = 'roc_auc')\n",
    "    print(m_scores)\n",
    "    print(np.mean(m_scores))\n",
    "    scores.append(np.mean(m_scores))\n",
    "    dic[C] = np.mean(m_scores)\n",
    "    print('Time spent: ', datetime.datetime.now() - start_time)\n",
    "plot.plot(range(-5,4), scores)\n",
    "plot.xlim([-5,5])\n",
    "plot.xlabel('log(C)')\n",
    "plot.ylabel('scores')\n",
    "plot.show()"
   ]
  },
  {
   "cell_type": "code",
   "execution_count": 6,
   "id": "03d58ab9",
   "metadata": {},
   "outputs": [
    {
     "name": "stdout",
     "output_type": "stream",
     "text": [
      "C:  0.01 score:  0.7158749274978009\n"
     ]
    }
   ],
   "source": [
    "Maximum = max(scores)\n",
    "Max_index = scores.index(Maximum)\n",
    "print('C: ', C_range[Max_index], 'score: ', Maximum)"
   ]
  },
  {
   "cell_type": "markdown",
   "id": "f8de7d4c",
   "metadata": {},
   "source": [
    "### Логистическая регрессия показывает высокое качество сравнимое с градиентным бустингом на числе дервьев более 150. При этом скорость обучения существенно выше.Как видно из графика, параметр регуляризации С в данном случае не оказывает существенного влияния на качество логистической регрессии. Наилучшее качество получается при C = 0.01: score = 0.71"
   ]
  },
  {
   "cell_type": "markdown",
   "id": "0a4b24d5",
   "metadata": {},
   "source": [
    "##### Среди признаков в выборке есть категориальные, которые мы использовали как числовые, что вряд ли является хорошей идеей. Категориальных признаков в этой задаче одиннадцать: lobby_type и r1_hero, r2_hero, ..., r5_hero, d1_hero, d2_hero, ..., d5_hero. Уберите их из выборки, и проведите кросс-валидацию для логистической регрессии на новой выборке с подбором лучшего параметра регуляризации. Изменилось ли качество? Чем вы можете это объяснить?"
   ]
  },
  {
   "cell_type": "code",
   "execution_count": 7,
   "id": "f2874521",
   "metadata": {},
   "outputs": [],
   "source": [
    "df_cat = df.copy(deep = True)\n",
    "for column in cat_cols:\n",
    "    df_cat.drop(column, axis = 1, inplace = True)"
   ]
  },
  {
   "cell_type": "code",
   "execution_count": 8,
   "id": "cc58354e",
   "metadata": {},
   "outputs": [],
   "source": [
    "columns_to_matrix = df_cat.columns.difference(['radiant_win', 'start_time'])\n",
    "x = df_cat[columns_to_matrix].values\n",
    "y = np.ravel(df_cat['radiant_win'].values)"
   ]
  },
  {
   "cell_type": "code",
   "execution_count": 9,
   "id": "ad3335ca",
   "metadata": {},
   "outputs": [
    {
     "name": "stdout",
     "output_type": "stream",
     "text": [
      "C:1e-05\n",
      "[0.69301387 0.69465216 0.69551243 0.69511775 0.69699207]\n",
      "0.6950576560892063\n",
      "Time spent:  0:00:00.985572\n",
      "C:0.0001\n",
      "[0.70930795 0.71020952 0.71145151 0.71161087 0.71347496]\n",
      "0.7112109619025709\n",
      "Time spent:  0:00:01.465916\n",
      "C:0.001\n",
      "[0.71435149 0.71564491 0.71597718 0.71679757 0.71850493]\n",
      "0.7162552164598966\n",
      "Time spent:  0:00:02.784353\n",
      "C:0.01\n",
      "[0.71453373 0.71602584 0.71591485 0.7171979  0.71854101]\n",
      "0.7164426665509407\n",
      "Time spent:  0:00:04.783996\n",
      "C:0.1\n",
      "[0.71449545 0.71602294 0.71585036 0.71722205 0.71849013]\n",
      "0.7164161872428171\n",
      "Time spent:  0:00:05.369532\n",
      "C:1.0\n",
      "[0.71449262 0.71602493 0.71584322 0.71722159 0.71848324]\n",
      "0.7164131196659719\n",
      "Time spent:  0:00:05.531808\n",
      "C:10.0\n",
      "[0.71449346 0.71602268 0.71584286 0.71722201 0.71848252]\n",
      "0.7164127045446538\n",
      "Time spent:  0:00:06.151504\n",
      "C:100.0\n",
      "[0.7144934  0.71602276 0.71584162 0.7172218  0.71848213]\n",
      "0.7164123423202085\n",
      "Time spent:  0:00:06.563218\n",
      "C:1000.0\n",
      "[0.71449343 0.71602282 0.71584208 0.71722183 0.71848211]\n",
      "0.7164124545832699\n",
      "Time spent:  0:00:07.151334\n"
     ]
    },
    {
     "data": {
      "image/png": "[encoded data removed]",
      "text/plain": [
       "<Figure size 432x288 with 1 Axes>"
      ]
     },
     "metadata": {
      "needs_background": "light"
     },
     "output_type": "display_data"
    }
   ],
   "source": [
    "cv = KFold(random_state = 42,shuffle = True,n_splits = 5)\n",
    "C_range = [10.0 ** i for i in range(-5,4)]\n",
    "scores = []\n",
    "dic = {}\n",
    "for C in C_range:\n",
    "    print(f'C:{C}')\n",
    "    start_time = datetime.datetime.now()\n",
    "    model = LogisticRegression(random_state = 42, C = C)\n",
    "    m_scores = cross_val_score(model,x,y,cv=cv,scoring = 'roc_auc')\n",
    "    print(m_scores)\n",
    "    print(np.mean(m_scores))\n",
    "    scores.append(np.mean(m_scores))\n",
    "    dic[C] = np.mean(m_scores)\n",
    "    print('Time spent: ', datetime.datetime.now() - start_time)\n",
    "plot.plot(range(-5,4), scores)\n",
    "plot.xlim([-5,5])\n",
    "plot.xlabel('log(C)')\n",
    "plot.ylabel('scores')\n",
    "plot.show()"
   ]
  },
  {
   "cell_type": "code",
   "execution_count": 10,
   "id": "bb3b46b2",
   "metadata": {},
   "outputs": [
    {
     "name": "stdout",
     "output_type": "stream",
     "text": [
      "C:  0.01 score:  0.7164426665509407\n"
     ]
    }
   ],
   "source": [
    "Maximum = max(scores)\n",
    "Max_index = scores.index(Maximum)\n",
    "print('C: ', C_range[Max_index], 'score: ', Maximum)"
   ]
  },
  {
   "cell_type": "markdown",
   "id": "c51a42d5",
   "metadata": {},
   "source": [
    "### После удаления категориальных признаков качество практически не изменилось, значит они не имеют существенного значения для качества модели. Лучшее качество по-прежнему достигается при C = 0.01."
   ]
  },
  {
   "cell_type": "markdown",
   "id": "27869797",
   "metadata": {},
   "source": [
    "##### 3. На предыдущем шаге мы исключили из выборки признаки rM_hero и dM_hero, которые показывают, какие именно герои играли за каждую команду. Это важные признаки — герои имеют разные характеристики, и некоторые из них выигрывают чаще, чем другие. Выясните из данных, сколько различных идентификаторов героев существует в данной игре (вам может пригодиться фукнция unique или value_counts)."
   ]
  },
  {
   "cell_type": "code",
   "execution_count": 11,
   "id": "1383cd26",
   "metadata": {},
   "outputs": [],
   "source": [
    "df = pd.read_csv('features.csv', index_col = 'match_id')"
   ]
  },
  {
   "cell_type": "code",
   "execution_count": 12,
   "id": "728f4277",
   "metadata": {},
   "outputs": [
    {
     "data": {
      "text/plain": [
       "108"
      ]
     },
     "execution_count": 12,
     "metadata": {},
     "output_type": "execute_result"
    }
   ],
   "source": [
    "len(df['r1_hero'].unique())"
   ]
  },
  {
   "cell_type": "markdown",
   "id": "acf44c25",
   "metadata": {},
   "source": [
    "### Ответ: 108 героев "
   ]
  },
  {
   "cell_type": "markdown",
   "id": "6a0ed7e7",
   "metadata": {},
   "source": [
    "##### 4. Воспользуемся подходом \"мешок слов\" для кодирования информации о героях. Пусть всего в игре имеет N различных героев. Сформируем N признаков, при этом i-й будет равен нулю, если i-й герой не участвовал в матче; единице, если i-й герой играл за команду Radiant; минус единице, если i-й герой играл за команду Dire. Ниже вы можете найти код, который выполняет данной преобразование. Добавьте полученные признаки к числовым, которые вы использовали во втором пункте данного этапа. "
   ]
  },
  {
   "cell_type": "code",
   "execution_count": 13,
   "id": "b23f9c2b",
   "metadata": {},
   "outputs": [],
   "source": [
    "N = np.max(df['r1_hero'].unique())\n",
    "x_pick = np.zeros((df.shape[0], N))\n",
    "\n",
    "for i, match_id in enumerate(df.index):\n",
    "    for p in range(5):\n",
    "        x_pick[i, df.loc[match_id, 'r%d_hero' % (p+1)] - 1] = 1\n",
    "        x_pick[i, df.loc[match_id, 'd%d_hero' % (p+1)] - 1] = -1"
   ]
  },
  {
   "cell_type": "code",
   "execution_count": 14,
   "id": "724facbe",
   "metadata": {},
   "outputs": [],
   "source": [
    "for i in range(N):\n",
    "    df_cat[f\"Hero{i}\"] = x_pick[:, i]"
   ]
  },
  {
   "cell_type": "code",
   "execution_count": 15,
   "id": "0e086736",
   "metadata": {},
   "outputs": [
    {
     "data": {
      "text/html": [
       "<div>\n",
       "<style scoped>\n",
       "    .dataframe tbody tr th:only-of-type {\n",
       "        vertical-align: middle;\n",
       "    }\n",
       "\n",
       "    .dataframe tbody tr th {\n",
       "        vertical-align: top;\n",
       "    }\n",
       "\n",
       "    .dataframe thead th {\n",
       "        text-align: right;\n",
       "    }\n",
       "</style>\n",
       "<table border=\"1\" class=\"dataframe\">\n",
       "  <thead>\n",
       "    <tr style=\"text-align: right;\">\n",
       "      <th></th>\n",
       "      <th>start_time</th>\n",
       "      <th>r1_level</th>\n",
       "      <th>r1_xp</th>\n",
       "      <th>r1_gold</th>\n",
       "      <th>r1_lh</th>\n",
       "      <th>r1_kills</th>\n",
       "      <th>r1_deaths</th>\n",
       "      <th>r1_items</th>\n",
       "      <th>r2_level</th>\n",
       "      <th>r2_xp</th>\n",
       "      <th>...</th>\n",
       "      <th>Hero102</th>\n",
       "      <th>Hero103</th>\n",
       "      <th>Hero104</th>\n",
       "      <th>Hero105</th>\n",
       "      <th>Hero106</th>\n",
       "      <th>Hero107</th>\n",
       "      <th>Hero108</th>\n",
       "      <th>Hero109</th>\n",
       "      <th>Hero110</th>\n",
       "      <th>Hero111</th>\n",
       "    </tr>\n",
       "    <tr>\n",
       "      <th>match_id</th>\n",
       "      <th></th>\n",
       "      <th></th>\n",
       "      <th></th>\n",
       "      <th></th>\n",
       "      <th></th>\n",
       "      <th></th>\n",
       "      <th></th>\n",
       "      <th></th>\n",
       "      <th></th>\n",
       "      <th></th>\n",
       "      <th></th>\n",
       "      <th></th>\n",
       "      <th></th>\n",
       "      <th></th>\n",
       "      <th></th>\n",
       "      <th></th>\n",
       "      <th></th>\n",
       "      <th></th>\n",
       "      <th></th>\n",
       "      <th></th>\n",
       "      <th></th>\n",
       "    </tr>\n",
       "  </thead>\n",
       "  <tbody>\n",
       "    <tr>\n",
       "      <th>0</th>\n",
       "      <td>1430198770</td>\n",
       "      <td>1.400808</td>\n",
       "      <td>1.525972</td>\n",
       "      <td>0.734957</td>\n",
       "      <td>0.969743</td>\n",
       "      <td>-0.537757</td>\n",
       "      <td>-0.578083</td>\n",
       "      <td>-0.509023</td>\n",
       "      <td>-0.332256</td>\n",
       "      <td>-0.625222</td>\n",
       "      <td>...</td>\n",
       "      <td>0.0</td>\n",
       "      <td>0.0</td>\n",
       "      <td>1.0</td>\n",
       "      <td>0.0</td>\n",
       "      <td>0.0</td>\n",
       "      <td>0.0</td>\n",
       "      <td>0.0</td>\n",
       "      <td>0.0</td>\n",
       "      <td>0.0</td>\n",
       "      <td>0.0</td>\n",
       "    </tr>\n",
       "    <tr>\n",
       "      <th>1</th>\n",
       "      <td>1430220345</td>\n",
       "      <td>0.501314</td>\n",
       "      <td>-0.080139</td>\n",
       "      <td>-0.247570</td>\n",
       "      <td>-0.246859</td>\n",
       "      <td>-0.537757</td>\n",
       "      <td>1.017574</td>\n",
       "      <td>1.492930</td>\n",
       "      <td>0.578881</td>\n",
       "      <td>0.732454</td>\n",
       "      <td>...</td>\n",
       "      <td>0.0</td>\n",
       "      <td>0.0</td>\n",
       "      <td>0.0</td>\n",
       "      <td>0.0</td>\n",
       "      <td>0.0</td>\n",
       "      <td>0.0</td>\n",
       "      <td>0.0</td>\n",
       "      <td>0.0</td>\n",
       "      <td>0.0</td>\n",
       "      <td>0.0</td>\n",
       "    </tr>\n",
       "    <tr>\n",
       "      <th>2</th>\n",
       "      <td>1430227081</td>\n",
       "      <td>0.501314</td>\n",
       "      <td>0.151070</td>\n",
       "      <td>0.263085</td>\n",
       "      <td>1.190944</td>\n",
       "      <td>-0.537757</td>\n",
       "      <td>-0.578083</td>\n",
       "      <td>1.492930</td>\n",
       "      <td>-0.332256</td>\n",
       "      <td>0.224676</td>\n",
       "      <td>...</td>\n",
       "      <td>0.0</td>\n",
       "      <td>0.0</td>\n",
       "      <td>0.0</td>\n",
       "      <td>0.0</td>\n",
       "      <td>0.0</td>\n",
       "      <td>0.0</td>\n",
       "      <td>0.0</td>\n",
       "      <td>0.0</td>\n",
       "      <td>0.0</td>\n",
       "      <td>0.0</td>\n",
       "    </tr>\n",
       "    <tr>\n",
       "      <th>3</th>\n",
       "      <td>1430263531</td>\n",
       "      <td>0.501314</td>\n",
       "      <td>0.962950</td>\n",
       "      <td>-0.198013</td>\n",
       "      <td>0.306142</td>\n",
       "      <td>-0.537757</td>\n",
       "      <td>-0.578083</td>\n",
       "      <td>-1.309804</td>\n",
       "      <td>-1.243393</td>\n",
       "      <td>-1.170813</td>\n",
       "      <td>...</td>\n",
       "      <td>0.0</td>\n",
       "      <td>0.0</td>\n",
       "      <td>0.0</td>\n",
       "      <td>0.0</td>\n",
       "      <td>0.0</td>\n",
       "      <td>0.0</td>\n",
       "      <td>0.0</td>\n",
       "      <td>0.0</td>\n",
       "      <td>0.0</td>\n",
       "      <td>0.0</td>\n",
       "    </tr>\n",
       "    <tr>\n",
       "      <th>4</th>\n",
       "      <td>1430282290</td>\n",
       "      <td>0.501314</td>\n",
       "      <td>0.348745</td>\n",
       "      <td>-0.124754</td>\n",
       "      <td>-0.357459</td>\n",
       "      <td>0.968527</td>\n",
       "      <td>-0.578083</td>\n",
       "      <td>-0.108632</td>\n",
       "      <td>-1.243393</td>\n",
       "      <td>-1.008757</td>\n",
       "      <td>...</td>\n",
       "      <td>0.0</td>\n",
       "      <td>0.0</td>\n",
       "      <td>0.0</td>\n",
       "      <td>0.0</td>\n",
       "      <td>0.0</td>\n",
       "      <td>0.0</td>\n",
       "      <td>0.0</td>\n",
       "      <td>0.0</td>\n",
       "      <td>0.0</td>\n",
       "      <td>0.0</td>\n",
       "    </tr>\n",
       "    <tr>\n",
       "      <th>...</th>\n",
       "      <td>...</td>\n",
       "      <td>...</td>\n",
       "      <td>...</td>\n",
       "      <td>...</td>\n",
       "      <td>...</td>\n",
       "      <td>...</td>\n",
       "      <td>...</td>\n",
       "      <td>...</td>\n",
       "      <td>...</td>\n",
       "      <td>...</td>\n",
       "      <td>...</td>\n",
       "      <td>...</td>\n",
       "      <td>...</td>\n",
       "      <td>...</td>\n",
       "      <td>...</td>\n",
       "      <td>...</td>\n",
       "      <td>...</td>\n",
       "      <td>...</td>\n",
       "      <td>...</td>\n",
       "      <td>...</td>\n",
       "      <td>...</td>\n",
       "    </tr>\n",
       "    <tr>\n",
       "      <th>114402</th>\n",
       "      <td>1450265551</td>\n",
       "      <td>0.501314</td>\n",
       "      <td>0.834109</td>\n",
       "      <td>0.107949</td>\n",
       "      <td>0.637942</td>\n",
       "      <td>-0.537757</td>\n",
       "      <td>1.017574</td>\n",
       "      <td>-0.108632</td>\n",
       "      <td>-1.243393</td>\n",
       "      <td>-1.032165</td>\n",
       "      <td>...</td>\n",
       "      <td>0.0</td>\n",
       "      <td>0.0</td>\n",
       "      <td>0.0</td>\n",
       "      <td>0.0</td>\n",
       "      <td>0.0</td>\n",
       "      <td>0.0</td>\n",
       "      <td>0.0</td>\n",
       "      <td>0.0</td>\n",
       "      <td>0.0</td>\n",
       "      <td>0.0</td>\n",
       "    </tr>\n",
       "    <tr>\n",
       "      <th>114403</th>\n",
       "      <td>1450277704</td>\n",
       "      <td>0.501314</td>\n",
       "      <td>0.987660</td>\n",
       "      <td>0.577666</td>\n",
       "      <td>0.637942</td>\n",
       "      <td>-0.537757</td>\n",
       "      <td>1.017574</td>\n",
       "      <td>-1.309804</td>\n",
       "      <td>-0.332256</td>\n",
       "      <td>-0.765671</td>\n",
       "      <td>...</td>\n",
       "      <td>0.0</td>\n",
       "      <td>0.0</td>\n",
       "      <td>0.0</td>\n",
       "      <td>0.0</td>\n",
       "      <td>0.0</td>\n",
       "      <td>0.0</td>\n",
       "      <td>0.0</td>\n",
       "      <td>1.0</td>\n",
       "      <td>0.0</td>\n",
       "      <td>0.0</td>\n",
       "    </tr>\n",
       "    <tr>\n",
       "      <th>114404</th>\n",
       "      <td>1450291848</td>\n",
       "      <td>0.501314</td>\n",
       "      <td>0.292267</td>\n",
       "      <td>-1.309820</td>\n",
       "      <td>-1.131661</td>\n",
       "      <td>-0.537757</td>\n",
       "      <td>-0.578083</td>\n",
       "      <td>-1.309804</td>\n",
       "      <td>0.578881</td>\n",
       "      <td>0.465961</td>\n",
       "      <td>...</td>\n",
       "      <td>0.0</td>\n",
       "      <td>0.0</td>\n",
       "      <td>0.0</td>\n",
       "      <td>0.0</td>\n",
       "      <td>0.0</td>\n",
       "      <td>0.0</td>\n",
       "      <td>0.0</td>\n",
       "      <td>0.0</td>\n",
       "      <td>0.0</td>\n",
       "      <td>1.0</td>\n",
       "    </tr>\n",
       "    <tr>\n",
       "      <th>114405</th>\n",
       "      <td>1450292986</td>\n",
       "      <td>-0.398181</td>\n",
       "      <td>-0.173682</td>\n",
       "      <td>-0.822866</td>\n",
       "      <td>-0.578660</td>\n",
       "      <td>-0.537757</td>\n",
       "      <td>2.613231</td>\n",
       "      <td>-0.909413</td>\n",
       "      <td>1.490017</td>\n",
       "      <td>1.377080</td>\n",
       "      <td>...</td>\n",
       "      <td>0.0</td>\n",
       "      <td>0.0</td>\n",
       "      <td>0.0</td>\n",
       "      <td>-1.0</td>\n",
       "      <td>0.0</td>\n",
       "      <td>0.0</td>\n",
       "      <td>0.0</td>\n",
       "      <td>0.0</td>\n",
       "      <td>0.0</td>\n",
       "      <td>0.0</td>\n",
       "    </tr>\n",
       "    <tr>\n",
       "      <th>114406</th>\n",
       "      <td>1450313370</td>\n",
       "      <td>-0.398181</td>\n",
       "      <td>-0.318409</td>\n",
       "      <td>-0.751762</td>\n",
       "      <td>-0.468060</td>\n",
       "      <td>-0.537757</td>\n",
       "      <td>-0.578083</td>\n",
       "      <td>-0.509023</td>\n",
       "      <td>1.490017</td>\n",
       "      <td>1.634571</td>\n",
       "      <td>...</td>\n",
       "      <td>0.0</td>\n",
       "      <td>0.0</td>\n",
       "      <td>0.0</td>\n",
       "      <td>-1.0</td>\n",
       "      <td>0.0</td>\n",
       "      <td>0.0</td>\n",
       "      <td>0.0</td>\n",
       "      <td>0.0</td>\n",
       "      <td>0.0</td>\n",
       "      <td>-1.0</td>\n",
       "    </tr>\n",
       "  </tbody>\n",
       "</table>\n",
       "<p>97230 rows × 204 columns</p>\n",
       "</div>"
      ],
      "text/plain": [
       "          start_time  r1_level     r1_xp   r1_gold     r1_lh  r1_kills  \\\n",
       "match_id                                                                 \n",
       "0         1430198770  1.400808  1.525972  0.734957  0.969743 -0.537757   \n",
       "1         1430220345  0.501314 -0.080139 -0.247570 -0.246859 -0.537757   \n",
       "2         1430227081  0.501314  0.151070  0.263085  1.190944 -0.537757   \n",
       "3         1430263531  0.501314  0.962950 -0.198013  0.306142 -0.537757   \n",
       "4         1430282290  0.501314  0.348745 -0.124754 -0.357459  0.968527   \n",
       "...              ...       ...       ...       ...       ...       ...   \n",
       "114402    1450265551  0.501314  0.834109  0.107949  0.637942 -0.537757   \n",
       "114403    1450277704  0.501314  0.987660  0.577666  0.637942 -0.537757   \n",
       "114404    1450291848  0.501314  0.292267 -1.309820 -1.131661 -0.537757   \n",
       "114405    1450292986 -0.398181 -0.173682 -0.822866 -0.578660 -0.537757   \n",
       "114406    1450313370 -0.398181 -0.318409 -0.751762 -0.468060 -0.537757   \n",
       "\n",
       "          r1_deaths  r1_items  r2_level     r2_xp  ...  Hero102  Hero103  \\\n",
       "match_id                                           ...                     \n",
       "0         -0.578083 -0.509023 -0.332256 -0.625222  ...      0.0      0.0   \n",
       "1          1.017574  1.492930  0.578881  0.732454  ...      0.0      0.0   \n",
       "2         -0.578083  1.492930 -0.332256  0.224676  ...      0.0      0.0   \n",
       "3         -0.578083 -1.309804 -1.243393 -1.170813  ...      0.0      0.0   \n",
       "4         -0.578083 -0.108632 -1.243393 -1.008757  ...      0.0      0.0   \n",
       "...             ...       ...       ...       ...  ...      ...      ...   \n",
       "114402     1.017574 -0.108632 -1.243393 -1.032165  ...      0.0      0.0   \n",
       "114403     1.017574 -1.309804 -0.332256 -0.765671  ...      0.0      0.0   \n",
       "114404    -0.578083 -1.309804  0.578881  0.465961  ...      0.0      0.0   \n",
       "114405     2.613231 -0.909413  1.490017  1.377080  ...      0.0      0.0   \n",
       "114406    -0.578083 -0.509023  1.490017  1.634571  ...      0.0      0.0   \n",
       "\n",
       "          Hero104  Hero105  Hero106  Hero107  Hero108  Hero109  Hero110  \\\n",
       "match_id                                                                  \n",
       "0             1.0      0.0      0.0      0.0      0.0      0.0      0.0   \n",
       "1             0.0      0.0      0.0      0.0      0.0      0.0      0.0   \n",
       "2             0.0      0.0      0.0      0.0      0.0      0.0      0.0   \n",
       "3             0.0      0.0      0.0      0.0      0.0      0.0      0.0   \n",
       "4             0.0      0.0      0.0      0.0      0.0      0.0      0.0   \n",
       "...           ...      ...      ...      ...      ...      ...      ...   \n",
       "114402        0.0      0.0      0.0      0.0      0.0      0.0      0.0   \n",
       "114403        0.0      0.0      0.0      0.0      0.0      1.0      0.0   \n",
       "114404        0.0      0.0      0.0      0.0      0.0      0.0      0.0   \n",
       "114405        0.0     -1.0      0.0      0.0      0.0      0.0      0.0   \n",
       "114406        0.0     -1.0      0.0      0.0      0.0      0.0      0.0   \n",
       "\n",
       "          Hero111  \n",
       "match_id           \n",
       "0             0.0  \n",
       "1             0.0  \n",
       "2             0.0  \n",
       "3             0.0  \n",
       "4             0.0  \n",
       "...           ...  \n",
       "114402        0.0  \n",
       "114403        0.0  \n",
       "114404        1.0  \n",
       "114405        0.0  \n",
       "114406       -1.0  \n",
       "\n",
       "[97230 rows x 204 columns]"
      ]
     },
     "execution_count": 15,
     "metadata": {},
     "output_type": "execute_result"
    }
   ],
   "source": [
    "df_cat"
   ]
  },
  {
   "cell_type": "markdown",
   "id": "d862d685",
   "metadata": {},
   "source": [
    "##### 5. Проведите кросс-валидацию для логистической регрессии на новой выборке с подбором лучшего параметра регуляризации. Какое получилось качество? Улучшилось ли оно? Чем вы можете это объяснить? "
   ]
  },
  {
   "cell_type": "code",
   "execution_count": 16,
   "id": "7315a109",
   "metadata": {},
   "outputs": [],
   "source": [
    "columns_to_matrix = df_cat.columns.difference(['radiant_win', 'start_time'])\n",
    "x = df_cat[columns_to_matrix].values\n",
    "y = np.ravel(df_cat['radiant_win'].values)"
   ]
  },
  {
   "cell_type": "code",
   "execution_count": 17,
   "id": "8d4ac898",
   "metadata": {},
   "outputs": [
    {
     "name": "stdout",
     "output_type": "stream",
     "text": [
      "C:1e-05\n",
      "[0.6971637  0.69870468 0.69941729 0.69933021 0.70105335]\n",
      "0.6991338465796227\n",
      "Time spent:  0:00:02.350581\n",
      "C:0.0001\n",
      "[0.72349462 0.72388376 0.72443309 0.72590142 0.72688314]\n",
      "0.7249192065428395\n",
      "Time spent:  0:00:03.317501\n",
      "C:0.001\n",
      "[0.74459048 0.74649847 0.74382531 0.74874274 0.74731728]\n",
      "0.7461948588492856\n",
      "Time spent:  0:00:05.294726\n",
      "C:0.01\n",
      "[0.74934494 0.7526165  0.74892569 0.75541298 0.75171252]\n",
      "0.751602525763204\n",
      "Time spent:  0:00:10.513308\n",
      "C:0.1\n"
     ]
    },
    {
     "name": "stderr",
     "output_type": "stream",
     "text": [
      "/opt/conda/lib/python3.8/site-packages/sklearn/linear_model/_logistic.py:814: ConvergenceWarning: lbfgs failed to converge (status=1):\n",
      "STOP: TOTAL NO. of ITERATIONS REACHED LIMIT.\n",
      "\n",
      "Increase the number of iterations (max_iter) or scale the data as shown in:\n",
      "    https://scikit-learn.org/stable/modules/preprocessing.html\n",
      "Please also refer to the documentation for alternative solver options:\n",
      "    https://scikit-learn.org/stable/modules/linear_model.html#logistic-regression\n",
      "  n_iter_i = _check_optimize_result(\n",
      "/opt/conda/lib/python3.8/site-packages/sklearn/linear_model/_logistic.py:814: ConvergenceWarning: lbfgs failed to converge (status=1):\n",
      "STOP: TOTAL NO. of ITERATIONS REACHED LIMIT.\n",
      "\n",
      "Increase the number of iterations (max_iter) or scale the data as shown in:\n",
      "    https://scikit-learn.org/stable/modules/preprocessing.html\n",
      "Please also refer to the documentation for alternative solver options:\n",
      "    https://scikit-learn.org/stable/modules/linear_model.html#logistic-regression\n",
      "  n_iter_i = _check_optimize_result(\n",
      "/opt/conda/lib/python3.8/site-packages/sklearn/linear_model/_logistic.py:814: ConvergenceWarning: lbfgs failed to converge (status=1):\n",
      "STOP: TOTAL NO. of ITERATIONS REACHED LIMIT.\n",
      "\n",
      "Increase the number of iterations (max_iter) or scale the data as shown in:\n",
      "    https://scikit-learn.org/stable/modules/preprocessing.html\n",
      "Please also refer to the documentation for alternative solver options:\n",
      "    https://scikit-learn.org/stable/modules/linear_model.html#logistic-regression\n",
      "  n_iter_i = _check_optimize_result(\n",
      "/opt/conda/lib/python3.8/site-packages/sklearn/linear_model/_logistic.py:814: ConvergenceWarning: lbfgs failed to converge (status=1):\n",
      "STOP: TOTAL NO. of ITERATIONS REACHED LIMIT.\n",
      "\n",
      "Increase the number of iterations (max_iter) or scale the data as shown in:\n",
      "    https://scikit-learn.org/stable/modules/preprocessing.html\n",
      "Please also refer to the documentation for alternative solver options:\n",
      "    https://scikit-learn.org/stable/modules/linear_model.html#logistic-regression\n",
      "  n_iter_i = _check_optimize_result(\n",
      "/opt/conda/lib/python3.8/site-packages/sklearn/linear_model/_logistic.py:814: ConvergenceWarning: lbfgs failed to converge (status=1):\n",
      "STOP: TOTAL NO. of ITERATIONS REACHED LIMIT.\n",
      "\n",
      "Increase the number of iterations (max_iter) or scale the data as shown in:\n",
      "    https://scikit-learn.org/stable/modules/preprocessing.html\n",
      "Please also refer to the documentation for alternative solver options:\n",
      "    https://scikit-learn.org/stable/modules/linear_model.html#logistic-regression\n",
      "  n_iter_i = _check_optimize_result(\n"
     ]
    },
    {
     "name": "stdout",
     "output_type": "stream",
     "text": [
      "[0.74930604 0.75295995 0.74916293 0.7559794  0.75156506]\n",
      "0.7517946776009428\n",
      "Time spent:  0:00:14.533733\n",
      "C:1.0\n"
     ]
    },
    {
     "name": "stderr",
     "output_type": "stream",
     "text": [
      "/opt/conda/lib/python3.8/site-packages/sklearn/linear_model/_logistic.py:814: ConvergenceWarning: lbfgs failed to converge (status=1):\n",
      "STOP: TOTAL NO. of ITERATIONS REACHED LIMIT.\n",
      "\n",
      "Increase the number of iterations (max_iter) or scale the data as shown in:\n",
      "    https://scikit-learn.org/stable/modules/preprocessing.html\n",
      "Please also refer to the documentation for alternative solver options:\n",
      "    https://scikit-learn.org/stable/modules/linear_model.html#logistic-regression\n",
      "  n_iter_i = _check_optimize_result(\n",
      "/opt/conda/lib/python3.8/site-packages/sklearn/linear_model/_logistic.py:814: ConvergenceWarning: lbfgs failed to converge (status=1):\n",
      "STOP: TOTAL NO. of ITERATIONS REACHED LIMIT.\n",
      "\n",
      "Increase the number of iterations (max_iter) or scale the data as shown in:\n",
      "    https://scikit-learn.org/stable/modules/preprocessing.html\n",
      "Please also refer to the documentation for alternative solver options:\n",
      "    https://scikit-learn.org/stable/modules/linear_model.html#logistic-regression\n",
      "  n_iter_i = _check_optimize_result(\n",
      "/opt/conda/lib/python3.8/site-packages/sklearn/linear_model/_logistic.py:814: ConvergenceWarning: lbfgs failed to converge (status=1):\n",
      "STOP: TOTAL NO. of ITERATIONS REACHED LIMIT.\n",
      "\n",
      "Increase the number of iterations (max_iter) or scale the data as shown in:\n",
      "    https://scikit-learn.org/stable/modules/preprocessing.html\n",
      "Please also refer to the documentation for alternative solver options:\n",
      "    https://scikit-learn.org/stable/modules/linear_model.html#logistic-regression\n",
      "  n_iter_i = _check_optimize_result(\n",
      "/opt/conda/lib/python3.8/site-packages/sklearn/linear_model/_logistic.py:814: ConvergenceWarning: lbfgs failed to converge (status=1):\n",
      "STOP: TOTAL NO. of ITERATIONS REACHED LIMIT.\n",
      "\n",
      "Increase the number of iterations (max_iter) or scale the data as shown in:\n",
      "    https://scikit-learn.org/stable/modules/preprocessing.html\n",
      "Please also refer to the documentation for alternative solver options:\n",
      "    https://scikit-learn.org/stable/modules/linear_model.html#logistic-regression\n",
      "  n_iter_i = _check_optimize_result(\n",
      "/opt/conda/lib/python3.8/site-packages/sklearn/linear_model/_logistic.py:814: ConvergenceWarning: lbfgs failed to converge (status=1):\n",
      "STOP: TOTAL NO. of ITERATIONS REACHED LIMIT.\n",
      "\n",
      "Increase the number of iterations (max_iter) or scale the data as shown in:\n",
      "    https://scikit-learn.org/stable/modules/preprocessing.html\n",
      "Please also refer to the documentation for alternative solver options:\n",
      "    https://scikit-learn.org/stable/modules/linear_model.html#logistic-regression\n",
      "  n_iter_i = _check_optimize_result(\n"
     ]
    },
    {
     "name": "stdout",
     "output_type": "stream",
     "text": [
      "[0.74923872 0.75297578 0.74915371 0.7560201  0.75148766]\n",
      "0.7517751934428405\n",
      "Time spent:  0:00:12.701445\n",
      "C:10.0\n"
     ]
    },
    {
     "name": "stderr",
     "output_type": "stream",
     "text": [
      "/opt/conda/lib/python3.8/site-packages/sklearn/linear_model/_logistic.py:814: ConvergenceWarning: lbfgs failed to converge (status=1):\n",
      "STOP: TOTAL NO. of ITERATIONS REACHED LIMIT.\n",
      "\n",
      "Increase the number of iterations (max_iter) or scale the data as shown in:\n",
      "    https://scikit-learn.org/stable/modules/preprocessing.html\n",
      "Please also refer to the documentation for alternative solver options:\n",
      "    https://scikit-learn.org/stable/modules/linear_model.html#logistic-regression\n",
      "  n_iter_i = _check_optimize_result(\n",
      "/opt/conda/lib/python3.8/site-packages/sklearn/linear_model/_logistic.py:814: ConvergenceWarning: lbfgs failed to converge (status=1):\n",
      "STOP: TOTAL NO. of ITERATIONS REACHED LIMIT.\n",
      "\n",
      "Increase the number of iterations (max_iter) or scale the data as shown in:\n",
      "    https://scikit-learn.org/stable/modules/preprocessing.html\n",
      "Please also refer to the documentation for alternative solver options:\n",
      "    https://scikit-learn.org/stable/modules/linear_model.html#logistic-regression\n",
      "  n_iter_i = _check_optimize_result(\n",
      "/opt/conda/lib/python3.8/site-packages/sklearn/linear_model/_logistic.py:814: ConvergenceWarning: lbfgs failed to converge (status=1):\n",
      "STOP: TOTAL NO. of ITERATIONS REACHED LIMIT.\n",
      "\n",
      "Increase the number of iterations (max_iter) or scale the data as shown in:\n",
      "    https://scikit-learn.org/stable/modules/preprocessing.html\n",
      "Please also refer to the documentation for alternative solver options:\n",
      "    https://scikit-learn.org/stable/modules/linear_model.html#logistic-regression\n",
      "  n_iter_i = _check_optimize_result(\n",
      "/opt/conda/lib/python3.8/site-packages/sklearn/linear_model/_logistic.py:814: ConvergenceWarning: lbfgs failed to converge (status=1):\n",
      "STOP: TOTAL NO. of ITERATIONS REACHED LIMIT.\n",
      "\n",
      "Increase the number of iterations (max_iter) or scale the data as shown in:\n",
      "    https://scikit-learn.org/stable/modules/preprocessing.html\n",
      "Please also refer to the documentation for alternative solver options:\n",
      "    https://scikit-learn.org/stable/modules/linear_model.html#logistic-regression\n",
      "  n_iter_i = _check_optimize_result(\n",
      "/opt/conda/lib/python3.8/site-packages/sklearn/linear_model/_logistic.py:814: ConvergenceWarning: lbfgs failed to converge (status=1):\n",
      "STOP: TOTAL NO. of ITERATIONS REACHED LIMIT.\n",
      "\n",
      "Increase the number of iterations (max_iter) or scale the data as shown in:\n",
      "    https://scikit-learn.org/stable/modules/preprocessing.html\n",
      "Please also refer to the documentation for alternative solver options:\n",
      "    https://scikit-learn.org/stable/modules/linear_model.html#logistic-regression\n",
      "  n_iter_i = _check_optimize_result(\n"
     ]
    },
    {
     "name": "stdout",
     "output_type": "stream",
     "text": [
      "[0.74923321 0.75297971 0.74915028 0.75602304 0.75147879]\n",
      "0.7517730067969944\n",
      "Time spent:  0:00:15.073897\n",
      "C:100.0\n"
     ]
    },
    {
     "name": "stderr",
     "output_type": "stream",
     "text": [
      "/opt/conda/lib/python3.8/site-packages/sklearn/linear_model/_logistic.py:814: ConvergenceWarning: lbfgs failed to converge (status=1):\n",
      "STOP: TOTAL NO. of ITERATIONS REACHED LIMIT.\n",
      "\n",
      "Increase the number of iterations (max_iter) or scale the data as shown in:\n",
      "    https://scikit-learn.org/stable/modules/preprocessing.html\n",
      "Please also refer to the documentation for alternative solver options:\n",
      "    https://scikit-learn.org/stable/modules/linear_model.html#logistic-regression\n",
      "  n_iter_i = _check_optimize_result(\n",
      "/opt/conda/lib/python3.8/site-packages/sklearn/linear_model/_logistic.py:814: ConvergenceWarning: lbfgs failed to converge (status=1):\n",
      "STOP: TOTAL NO. of ITERATIONS REACHED LIMIT.\n",
      "\n",
      "Increase the number of iterations (max_iter) or scale the data as shown in:\n",
      "    https://scikit-learn.org/stable/modules/preprocessing.html\n",
      "Please also refer to the documentation for alternative solver options:\n",
      "    https://scikit-learn.org/stable/modules/linear_model.html#logistic-regression\n",
      "  n_iter_i = _check_optimize_result(\n",
      "/opt/conda/lib/python3.8/site-packages/sklearn/linear_model/_logistic.py:814: ConvergenceWarning: lbfgs failed to converge (status=1):\n",
      "STOP: TOTAL NO. of ITERATIONS REACHED LIMIT.\n",
      "\n",
      "Increase the number of iterations (max_iter) or scale the data as shown in:\n",
      "    https://scikit-learn.org/stable/modules/preprocessing.html\n",
      "Please also refer to the documentation for alternative solver options:\n",
      "    https://scikit-learn.org/stable/modules/linear_model.html#logistic-regression\n",
      "  n_iter_i = _check_optimize_result(\n",
      "/opt/conda/lib/python3.8/site-packages/sklearn/linear_model/_logistic.py:814: ConvergenceWarning: lbfgs failed to converge (status=1):\n",
      "STOP: TOTAL NO. of ITERATIONS REACHED LIMIT.\n",
      "\n",
      "Increase the number of iterations (max_iter) or scale the data as shown in:\n",
      "    https://scikit-learn.org/stable/modules/preprocessing.html\n",
      "Please also refer to the documentation for alternative solver options:\n",
      "    https://scikit-learn.org/stable/modules/linear_model.html#logistic-regression\n",
      "  n_iter_i = _check_optimize_result(\n",
      "/opt/conda/lib/python3.8/site-packages/sklearn/linear_model/_logistic.py:814: ConvergenceWarning: lbfgs failed to converge (status=1):\n",
      "STOP: TOTAL NO. of ITERATIONS REACHED LIMIT.\n",
      "\n",
      "Increase the number of iterations (max_iter) or scale the data as shown in:\n",
      "    https://scikit-learn.org/stable/modules/preprocessing.html\n",
      "Please also refer to the documentation for alternative solver options:\n",
      "    https://scikit-learn.org/stable/modules/linear_model.html#logistic-regression\n",
      "  n_iter_i = _check_optimize_result(\n"
     ]
    },
    {
     "name": "stdout",
     "output_type": "stream",
     "text": [
      "[0.74923283 0.75297904 0.7491519  0.75602177 0.75148115]\n",
      "0.7517733372442599\n",
      "Time spent:  0:00:14.854222\n",
      "C:1000.0\n"
     ]
    },
    {
     "name": "stderr",
     "output_type": "stream",
     "text": [
      "/opt/conda/lib/python3.8/site-packages/sklearn/linear_model/_logistic.py:814: ConvergenceWarning: lbfgs failed to converge (status=1):\n",
      "STOP: TOTAL NO. of ITERATIONS REACHED LIMIT.\n",
      "\n",
      "Increase the number of iterations (max_iter) or scale the data as shown in:\n",
      "    https://scikit-learn.org/stable/modules/preprocessing.html\n",
      "Please also refer to the documentation for alternative solver options:\n",
      "    https://scikit-learn.org/stable/modules/linear_model.html#logistic-regression\n",
      "  n_iter_i = _check_optimize_result(\n",
      "/opt/conda/lib/python3.8/site-packages/sklearn/linear_model/_logistic.py:814: ConvergenceWarning: lbfgs failed to converge (status=1):\n",
      "STOP: TOTAL NO. of ITERATIONS REACHED LIMIT.\n",
      "\n",
      "Increase the number of iterations (max_iter) or scale the data as shown in:\n",
      "    https://scikit-learn.org/stable/modules/preprocessing.html\n",
      "Please also refer to the documentation for alternative solver options:\n",
      "    https://scikit-learn.org/stable/modules/linear_model.html#logistic-regression\n",
      "  n_iter_i = _check_optimize_result(\n",
      "/opt/conda/lib/python3.8/site-packages/sklearn/linear_model/_logistic.py:814: ConvergenceWarning: lbfgs failed to converge (status=1):\n",
      "STOP: TOTAL NO. of ITERATIONS REACHED LIMIT.\n",
      "\n",
      "Increase the number of iterations (max_iter) or scale the data as shown in:\n",
      "    https://scikit-learn.org/stable/modules/preprocessing.html\n",
      "Please also refer to the documentation for alternative solver options:\n",
      "    https://scikit-learn.org/stable/modules/linear_model.html#logistic-regression\n",
      "  n_iter_i = _check_optimize_result(\n",
      "/opt/conda/lib/python3.8/site-packages/sklearn/linear_model/_logistic.py:814: ConvergenceWarning: lbfgs failed to converge (status=1):\n",
      "STOP: TOTAL NO. of ITERATIONS REACHED LIMIT.\n",
      "\n",
      "Increase the number of iterations (max_iter) or scale the data as shown in:\n",
      "    https://scikit-learn.org/stable/modules/preprocessing.html\n",
      "Please also refer to the documentation for alternative solver options:\n",
      "    https://scikit-learn.org/stable/modules/linear_model.html#logistic-regression\n",
      "  n_iter_i = _check_optimize_result(\n",
      "/opt/conda/lib/python3.8/site-packages/sklearn/linear_model/_logistic.py:814: ConvergenceWarning: lbfgs failed to converge (status=1):\n",
      "STOP: TOTAL NO. of ITERATIONS REACHED LIMIT.\n",
      "\n",
      "Increase the number of iterations (max_iter) or scale the data as shown in:\n",
      "    https://scikit-learn.org/stable/modules/preprocessing.html\n",
      "Please also refer to the documentation for alternative solver options:\n",
      "    https://scikit-learn.org/stable/modules/linear_model.html#logistic-regression\n",
      "  n_iter_i = _check_optimize_result(\n"
     ]
    },
    {
     "name": "stdout",
     "output_type": "stream",
     "text": [
      "[0.74923389 0.75297947 0.74915242 0.75602048 0.75147932]\n",
      "0.7517731169422126\n",
      "Time spent:  0:00:15.035967\n"
     ]
    },
    {
     "data": {
      "image/png": "[encoded data removed]",
      "text/plain": [
       "<Figure size 432x288 with 1 Axes>"
      ]
     },
     "metadata": {
      "needs_background": "light"
     },
     "output_type": "display_data"
    }
   ],
   "source": [
    "cv = KFold(random_state = 42,shuffle = True,n_splits = 5)\n",
    "C_range = [10.0 ** i for i in range(-5,4)]\n",
    "scores = []\n",
    "dic = {}\n",
    "for C in C_range:\n",
    "    print(f'C:{C}')\n",
    "    start_time = datetime.datetime.now()\n",
    "    model = LogisticRegression(random_state = 42, C = C)\n",
    "    m_scores = cross_val_score(model,x,y,cv=cv,scoring = 'roc_auc')\n",
    "    print(m_scores)\n",
    "    print(np.mean(m_scores))\n",
    "    scores.append(np.mean(m_scores))\n",
    "    dic[C] = np.mean(m_scores)\n",
    "    print('Time spent: ', datetime.datetime.now() - start_time)\n",
    "plot.plot(range(-5,4), scores)\n",
    "plot.xlim([-5,5])\n",
    "plot.xlabel('log(C)')\n",
    "plot.ylabel('scores')\n",
    "plot.show()"
   ]
  },
  {
   "cell_type": "code",
   "execution_count": 18,
   "id": "d01fc030",
   "metadata": {},
   "outputs": [
    {
     "name": "stdout",
     "output_type": "stream",
     "text": [
      "C:  0.1 score:  0.7517946776009428\n"
     ]
    }
   ],
   "source": [
    "Maximum = max(scores)\n",
    "Max_index = scores.index(Maximum)\n",
    "print('C: ', C_range[Max_index], 'score: ', Maximum)"
   ]
  },
  {
   "cell_type": "markdown",
   "id": "d44377e7",
   "metadata": {},
   "source": [
    "### Качество обучения существенно вoзросло. В данном случае лучший параметр C = 0.1. Это можно объяснить тем, что само значение идентификатора мало влияло на результат, значительно важнее был просто факт присутствия героя в игре"
   ]
  },
  {
   "cell_type": "markdown",
   "id": "25f1cf9b",
   "metadata": {},
   "source": [
    "##### 6. Постройте предсказания вероятностей победы команды Radiant для тестовой выборки с помощью лучшей из изученных моделей (лучшей с точки зрения AUC-ROC на кросс-валидации). Убедитесь, что предсказанные вероятности адекватные — находятся на отрезке [0, 1], не совпадают между собой (т.е. что модель не получилась константной)."
   ]
  },
  {
   "cell_type": "markdown",
   "id": "601420c8",
   "metadata": {},
   "source": [
    "### Применим логистическую регрессию"
   ]
  },
  {
   "cell_type": "code",
   "execution_count": 19,
   "id": "c09c4275",
   "metadata": {},
   "outputs": [
    {
     "name": "stderr",
     "output_type": "stream",
     "text": [
      "/opt/conda/lib/python3.8/site-packages/sklearn/linear_model/_logistic.py:814: ConvergenceWarning: lbfgs failed to converge (status=1):\n",
      "STOP: TOTAL NO. of ITERATIONS REACHED LIMIT.\n",
      "\n",
      "Increase the number of iterations (max_iter) or scale the data as shown in:\n",
      "    https://scikit-learn.org/stable/modules/preprocessing.html\n",
      "Please also refer to the documentation for alternative solver options:\n",
      "    https://scikit-learn.org/stable/modules/linear_model.html#logistic-regression\n",
      "  n_iter_i = _check_optimize_result(\n"
     ]
    },
    {
     "data": {
      "text/plain": [
       "LogisticRegression(C=0.1)"
      ]
     },
     "execution_count": 19,
     "metadata": {},
     "output_type": "execute_result"
    }
   ],
   "source": [
    "lr = LogisticRegression(C = 0.1)\n",
    "lr.fit(x, y)"
   ]
  },
  {
   "cell_type": "code",
   "execution_count": 20,
   "id": "a97f8298",
   "metadata": {},
   "outputs": [],
   "source": [
    "df = pd.read_csv('features_test.csv', index_col = 'match_id')\n",
    "\n",
    "df.fillna(0, inplace = True)\n",
    "\n",
    "data = df[columns_to_scale].values\n",
    "data = scaler.transform(data)\n",
    "for i, column in enumerate(columns_to_scale):\n",
    "    df[column] = data[:, i]\n",
    "        \n",
    "x_pick = np.zeros((df.shape[0], N))\n",
    "for i, match_id in enumerate(df.index):\n",
    "    for p in range(5):\n",
    "        x_pick[i, df.loc[match_id, 'r%d_hero' % (p+1)] - 1] = 1\n",
    "        x_pick[i, df.loc[match_id, 'd%d_hero' % (p+1)] - 1] = -1\n",
    "for i in range(N):\n",
    "    df[f\"Hero{i}\"] = x_pick[:, i]\n",
    "    \n",
    "for column in cat_cols:\n",
    "    df.drop(column, axis = 1, inplace = True)"
   ]
  },
  {
   "cell_type": "code",
   "execution_count": 21,
   "id": "6e3c6748",
   "metadata": {},
   "outputs": [],
   "source": [
    "df = df.drop('start_time',axis=1)"
   ]
  },
  {
   "cell_type": "code",
   "execution_count": 22,
   "id": "307e94c8",
   "metadata": {},
   "outputs": [],
   "source": [
    "proba = lr.predict_proba(df.values)"
   ]
  },
  {
   "cell_type": "code",
   "execution_count": 23,
   "id": "a66deb6a",
   "metadata": {},
   "outputs": [
    {
     "data": {
      "text/plain": [
       "0.9998142760025925"
      ]
     },
     "execution_count": 23,
     "metadata": {},
     "output_type": "execute_result"
    }
   ],
   "source": [
    "proba[:,0].max()"
   ]
  },
  {
   "cell_type": "code",
   "execution_count": 24,
   "id": "5715cf39",
   "metadata": {},
   "outputs": [
    {
     "data": {
      "text/plain": [
       "6.173804109055325e-07"
      ]
     },
     "execution_count": 24,
     "metadata": {},
     "output_type": "execute_result"
    }
   ],
   "source": [
    "proba[:,0].min()"
   ]
  },
  {
   "cell_type": "code",
   "execution_count": 25,
   "id": "e8905c68",
   "metadata": {},
   "outputs": [
    {
     "data": {
      "text/plain": [
       "0.9999993826195891"
      ]
     },
     "execution_count": 25,
     "metadata": {},
     "output_type": "execute_result"
    }
   ],
   "source": [
    "proba[:,1].max()"
   ]
  },
  {
   "cell_type": "code",
   "execution_count": 26,
   "id": "9c5245ec",
   "metadata": {},
   "outputs": [
    {
     "data": {
      "text/plain": [
       "0.00018572399740745356"
      ]
     },
     "execution_count": 26,
     "metadata": {},
     "output_type": "execute_result"
    }
   ],
   "source": [
    "proba[:,1].min()"
   ]
  },
  {
   "cell_type": "code",
   "execution_count": 27,
   "id": "99a67bfc",
   "metadata": {},
   "outputs": [
    {
     "data": {
      "text/plain": [
       "17177"
      ]
     },
     "execution_count": 27,
     "metadata": {},
     "output_type": "execute_result"
    }
   ],
   "source": [
    "len(proba[:,1])"
   ]
  },
  {
   "cell_type": "code",
   "execution_count": 28,
   "id": "2a77dfe5",
   "metadata": {},
   "outputs": [
    {
     "data": {
      "text/plain": [
       "17177"
      ]
     },
     "execution_count": 28,
     "metadata": {},
     "output_type": "execute_result"
    }
   ],
   "source": [
    "len(proba[:,0])"
   ]
  },
  {
   "cell_type": "markdown",
   "id": "f0b24d1f",
   "metadata": {},
   "source": [
    "### Видно, что результаты адекватные "
   ]
  }
 ],
 "metadata": {
  "kernelspec": {
   "display_name": "Python 3",
   "language": "python",
   "name": "python3"
  },
  "language_info": {
   "codemirror_mode": {
    "name": "ipython",
    "version": 3
   },
   "file_extension": ".py",
   "mimetype": "text/x-python",
   "name": "python",
   "nbconvert_exporter": "python",
   "pygments_lexer": "ipython3",
   "version": "3.8.2"
  }
 },
 "nbformat": 4,
 "nbformat_minor": 5
}
